{
 "cells": [
  {
   "cell_type": "markdown",
   "id": "37dd415f",
   "metadata": {},
   "source": [
    "#In summary, \n",
    "this code performs data exploration, data cleaning, feature selection, and builds two different classification models (Random Forest and Logistic Regression) to classify spam emails based on various features. The accuracy of both models is evaluated using a confusion matrix."
   ]
  },
  {
   "cell_type": "markdown",
   "id": "9ebe3139",
   "metadata": {},
   "source": [
    "# Import Libraries: \n",
    "Import necessary libraries like pandas, matplotlib, seaborn, and scikit-learn."
   ]
  },
  {
   "cell_type": "code",
   "execution_count": 1,
   "id": "288bf5e7",
   "metadata": {},
   "outputs": [],
   "source": [
    "import pandas as pd\n",
    "import matplotlib.pyplot as plt\n",
    "import seaborn as sns\n",
    "import numpy as np"
   ]
  },
  {
   "cell_type": "markdown",
   "id": "23792c21",
   "metadata": {},
   "source": [
    "# Load the Dataset:\n",
    "Load the email dataset from a CSV file named \"spam_email_dataset.csv\" into a DataFrame called E_data."
   ]
  },
  {
   "cell_type": "code",
   "execution_count": 2,
   "id": "addcbca5",
   "metadata": {},
   "outputs": [],
   "source": [
    "E_data = pd.read_csv(\"spam_email_dataset.csv\")"
   ]
  },
  {
   "cell_type": "code",
   "execution_count": 3,
   "id": "103b40a1",
   "metadata": {
    "collapsed": true
   },
   "outputs": [
    {
     "data": {
      "text/html": [
       "<div>\n",
       "<style scoped>\n",
       "    .dataframe tbody tr th:only-of-type {\n",
       "        vertical-align: middle;\n",
       "    }\n",
       "\n",
       "    .dataframe tbody tr th {\n",
       "        vertical-align: top;\n",
       "    }\n",
       "\n",
       "    .dataframe thead th {\n",
       "        text-align: right;\n",
       "    }\n",
       "</style>\n",
       "<table border=\"1\" class=\"dataframe\">\n",
       "  <thead>\n",
       "    <tr style=\"text-align: right;\">\n",
       "      <th></th>\n",
       "      <th>Email</th>\n",
       "      <th>Subject</th>\n",
       "      <th>Sender</th>\n",
       "      <th>Recipient</th>\n",
       "      <th>Date</th>\n",
       "      <th>Time</th>\n",
       "      <th>Attachments</th>\n",
       "      <th>Link Count</th>\n",
       "      <th>Word Count</th>\n",
       "      <th>Uppercase Count</th>\n",
       "      <th>Exclamation Count</th>\n",
       "      <th>Question Count</th>\n",
       "      <th>Dollar Count</th>\n",
       "      <th>Punctuation Count</th>\n",
       "      <th>HTML Tags Count</th>\n",
       "      <th>Spam Indicator</th>\n",
       "    </tr>\n",
       "  </thead>\n",
       "  <tbody>\n",
       "    <tr>\n",
       "      <th>0</th>\n",
       "      <td>mikerusso@example.net</td>\n",
       "      <td>Even hotel community church.</td>\n",
       "      <td>emilyscott@example.org</td>\n",
       "      <td>gregorysmith@example.org</td>\n",
       "      <td>13-02-2023</td>\n",
       "      <td>04:13</td>\n",
       "      <td>3</td>\n",
       "      <td>0</td>\n",
       "      <td>191</td>\n",
       "      <td>32</td>\n",
       "      <td>3</td>\n",
       "      <td>3</td>\n",
       "      <td>0</td>\n",
       "      <td>11</td>\n",
       "      <td>1</td>\n",
       "      <td>1</td>\n",
       "    </tr>\n",
       "    <tr>\n",
       "      <th>1</th>\n",
       "      <td>waynebailey@example.org</td>\n",
       "      <td>Try themselves guess fight white agreement thu...</td>\n",
       "      <td>annwhite@example.net</td>\n",
       "      <td>gonzalezdaniel@example.net</td>\n",
       "      <td>09-08-2023</td>\n",
       "      <td>06:15</td>\n",
       "      <td>3</td>\n",
       "      <td>9</td>\n",
       "      <td>45</td>\n",
       "      <td>1</td>\n",
       "      <td>2</td>\n",
       "      <td>1</td>\n",
       "      <td>2</td>\n",
       "      <td>8</td>\n",
       "      <td>2</td>\n",
       "      <td>1</td>\n",
       "    </tr>\n",
       "    <tr>\n",
       "      <th>2</th>\n",
       "      <td>jill43@example.com</td>\n",
       "      <td>Environmental commercial off seem any conference.</td>\n",
       "      <td>david88@example.net</td>\n",
       "      <td>michellebaker@example.net</td>\n",
       "      <td>16-05-2023</td>\n",
       "      <td>01:32</td>\n",
       "      <td>3</td>\n",
       "      <td>9</td>\n",
       "      <td>52</td>\n",
       "      <td>1</td>\n",
       "      <td>4</td>\n",
       "      <td>0</td>\n",
       "      <td>2</td>\n",
       "      <td>10</td>\n",
       "      <td>1</td>\n",
       "      <td>1</td>\n",
       "    </tr>\n",
       "    <tr>\n",
       "      <th>3</th>\n",
       "      <td>johnsonkaren@example.org</td>\n",
       "      <td>Smile real TV father commercial day increase.</td>\n",
       "      <td>lindaalvarez@example.com</td>\n",
       "      <td>schroedertodd@example.com</td>\n",
       "      <td>25-04-2023</td>\n",
       "      <td>14:50</td>\n",
       "      <td>2</td>\n",
       "      <td>3</td>\n",
       "      <td>75</td>\n",
       "      <td>6</td>\n",
       "      <td>0</td>\n",
       "      <td>2</td>\n",
       "      <td>0</td>\n",
       "      <td>8</td>\n",
       "      <td>2</td>\n",
       "      <td>0</td>\n",
       "    </tr>\n",
       "    <tr>\n",
       "      <th>4</th>\n",
       "      <td>markwilson@example.org</td>\n",
       "      <td>Fast stage he oil institution.</td>\n",
       "      <td>vstafford@example.com</td>\n",
       "      <td>emilywilliams@example.com</td>\n",
       "      <td>11-07-2023</td>\n",
       "      <td>21:44</td>\n",
       "      <td>3</td>\n",
       "      <td>5</td>\n",
       "      <td>299</td>\n",
       "      <td>279</td>\n",
       "      <td>0</td>\n",
       "      <td>2</td>\n",
       "      <td>0</td>\n",
       "      <td>6</td>\n",
       "      <td>1</td>\n",
       "      <td>1</td>\n",
       "    </tr>\n",
       "    <tr>\n",
       "      <th>...</th>\n",
       "      <td>...</td>\n",
       "      <td>...</td>\n",
       "      <td>...</td>\n",
       "      <td>...</td>\n",
       "      <td>...</td>\n",
       "      <td>...</td>\n",
       "      <td>...</td>\n",
       "      <td>...</td>\n",
       "      <td>...</td>\n",
       "      <td>...</td>\n",
       "      <td>...</td>\n",
       "      <td>...</td>\n",
       "      <td>...</td>\n",
       "      <td>...</td>\n",
       "      <td>...</td>\n",
       "      <td>...</td>\n",
       "    </tr>\n",
       "    <tr>\n",
       "      <th>5995</th>\n",
       "      <td>cassidytaylor@example.com</td>\n",
       "      <td>Current team yet like realize American.</td>\n",
       "      <td>martinezangela@example.net</td>\n",
       "      <td>perkinsmatthew@example.org</td>\n",
       "      <td>10-04-2023</td>\n",
       "      <td>07:18</td>\n",
       "      <td>1</td>\n",
       "      <td>7</td>\n",
       "      <td>114</td>\n",
       "      <td>83</td>\n",
       "      <td>0</td>\n",
       "      <td>3</td>\n",
       "      <td>2</td>\n",
       "      <td>0</td>\n",
       "      <td>5</td>\n",
       "      <td>0</td>\n",
       "    </tr>\n",
       "    <tr>\n",
       "      <th>5996</th>\n",
       "      <td>lisatate@example.com</td>\n",
       "      <td>Also start certainly range great try others.</td>\n",
       "      <td>mckenzieerika@example.net</td>\n",
       "      <td>jeremy75@example.org</td>\n",
       "      <td>07-05-2023</td>\n",
       "      <td>19:45</td>\n",
       "      <td>1</td>\n",
       "      <td>5</td>\n",
       "      <td>19</td>\n",
       "      <td>10</td>\n",
       "      <td>0</td>\n",
       "      <td>0</td>\n",
       "      <td>1</td>\n",
       "      <td>7</td>\n",
       "      <td>0</td>\n",
       "      <td>0</td>\n",
       "    </tr>\n",
       "    <tr>\n",
       "      <th>5997</th>\n",
       "      <td>cassandravazquez@example.org</td>\n",
       "      <td>Matter issue win agent likely.</td>\n",
       "      <td>dlewis@example.org</td>\n",
       "      <td>cervanteskimberly@example.org</td>\n",
       "      <td>08-04-2023</td>\n",
       "      <td>18:49</td>\n",
       "      <td>2</td>\n",
       "      <td>10</td>\n",
       "      <td>52</td>\n",
       "      <td>45</td>\n",
       "      <td>5</td>\n",
       "      <td>3</td>\n",
       "      <td>0</td>\n",
       "      <td>10</td>\n",
       "      <td>4</td>\n",
       "      <td>0</td>\n",
       "    </tr>\n",
       "    <tr>\n",
       "      <th>5998</th>\n",
       "      <td>amoore@example.com</td>\n",
       "      <td>Again member father.</td>\n",
       "      <td>eperry@example.org</td>\n",
       "      <td>dana02@example.org</td>\n",
       "      <td>19-01-2023</td>\n",
       "      <td>14:00</td>\n",
       "      <td>3</td>\n",
       "      <td>2</td>\n",
       "      <td>178</td>\n",
       "      <td>76</td>\n",
       "      <td>0</td>\n",
       "      <td>1</td>\n",
       "      <td>2</td>\n",
       "      <td>11</td>\n",
       "      <td>1</td>\n",
       "      <td>1</td>\n",
       "    </tr>\n",
       "    <tr>\n",
       "      <th>5999</th>\n",
       "      <td>vwilliams@example.org</td>\n",
       "      <td>Position recognize behind boy try able.</td>\n",
       "      <td>jason06@example.org</td>\n",
       "      <td>sjones@example.com</td>\n",
       "      <td>02-07-2023</td>\n",
       "      <td>22:23</td>\n",
       "      <td>0</td>\n",
       "      <td>6</td>\n",
       "      <td>218</td>\n",
       "      <td>130</td>\n",
       "      <td>3</td>\n",
       "      <td>0</td>\n",
       "      <td>0</td>\n",
       "      <td>11</td>\n",
       "      <td>2</td>\n",
       "      <td>1</td>\n",
       "    </tr>\n",
       "  </tbody>\n",
       "</table>\n",
       "<p>6000 rows × 16 columns</p>\n",
       "</div>"
      ],
      "text/plain": [
       "                             Email  \\\n",
       "0            mikerusso@example.net   \n",
       "1          waynebailey@example.org   \n",
       "2               jill43@example.com   \n",
       "3         johnsonkaren@example.org   \n",
       "4           markwilson@example.org   \n",
       "...                            ...   \n",
       "5995     cassidytaylor@example.com   \n",
       "5996          lisatate@example.com   \n",
       "5997  cassandravazquez@example.org   \n",
       "5998            amoore@example.com   \n",
       "5999         vwilliams@example.org   \n",
       "\n",
       "                                                Subject  \\\n",
       "0                          Even hotel community church.   \n",
       "1     Try themselves guess fight white agreement thu...   \n",
       "2     Environmental commercial off seem any conference.   \n",
       "3         Smile real TV father commercial day increase.   \n",
       "4                        Fast stage he oil institution.   \n",
       "...                                                 ...   \n",
       "5995            Current team yet like realize American.   \n",
       "5996       Also start certainly range great try others.   \n",
       "5997                     Matter issue win agent likely.   \n",
       "5998                               Again member father.   \n",
       "5999            Position recognize behind boy try able.   \n",
       "\n",
       "                          Sender                      Recipient        Date  \\\n",
       "0         emilyscott@example.org       gregorysmith@example.org  13-02-2023   \n",
       "1           annwhite@example.net     gonzalezdaniel@example.net  09-08-2023   \n",
       "2            david88@example.net      michellebaker@example.net  16-05-2023   \n",
       "3       lindaalvarez@example.com      schroedertodd@example.com  25-04-2023   \n",
       "4          vstafford@example.com      emilywilliams@example.com  11-07-2023   \n",
       "...                          ...                            ...         ...   \n",
       "5995  martinezangela@example.net     perkinsmatthew@example.org  10-04-2023   \n",
       "5996   mckenzieerika@example.net           jeremy75@example.org  07-05-2023   \n",
       "5997          dlewis@example.org  cervanteskimberly@example.org  08-04-2023   \n",
       "5998          eperry@example.org             dana02@example.org  19-01-2023   \n",
       "5999         jason06@example.org             sjones@example.com  02-07-2023   \n",
       "\n",
       "       Time  Attachments  Link Count  Word Count  Uppercase Count  \\\n",
       "0     04:13            3           0         191               32   \n",
       "1     06:15            3           9          45                1   \n",
       "2     01:32            3           9          52                1   \n",
       "3     14:50            2           3          75                6   \n",
       "4     21:44            3           5         299              279   \n",
       "...     ...          ...         ...         ...              ...   \n",
       "5995  07:18            1           7         114               83   \n",
       "5996  19:45            1           5          19               10   \n",
       "5997  18:49            2          10          52               45   \n",
       "5998  14:00            3           2         178               76   \n",
       "5999  22:23            0           6         218              130   \n",
       "\n",
       "      Exclamation Count  Question Count  Dollar Count  Punctuation Count  \\\n",
       "0                     3               3             0                 11   \n",
       "1                     2               1             2                  8   \n",
       "2                     4               0             2                 10   \n",
       "3                     0               2             0                  8   \n",
       "4                     0               2             0                  6   \n",
       "...                 ...             ...           ...                ...   \n",
       "5995                  0               3             2                  0   \n",
       "5996                  0               0             1                  7   \n",
       "5997                  5               3             0                 10   \n",
       "5998                  0               1             2                 11   \n",
       "5999                  3               0             0                 11   \n",
       "\n",
       "      HTML Tags Count  Spam Indicator  \n",
       "0                   1               1  \n",
       "1                   2               1  \n",
       "2                   1               1  \n",
       "3                   2               0  \n",
       "4                   1               1  \n",
       "...               ...             ...  \n",
       "5995                5               0  \n",
       "5996                0               0  \n",
       "5997                4               0  \n",
       "5998                1               1  \n",
       "5999                2               1  \n",
       "\n",
       "[6000 rows x 16 columns]"
      ]
     },
     "execution_count": 3,
     "metadata": {},
     "output_type": "execute_result"
    }
   ],
   "source": [
    "E_data"
   ]
  },
  {
   "cell_type": "markdown",
   "id": "dbe5feab",
   "metadata": {},
   "source": [
    "# Data Exploration:\n",
    "\n",
    "Use E_data.info() to get information about the dataset, including data types and missing values."
   ]
  },
  {
   "cell_type": "code",
   "execution_count": 4,
   "id": "6cae02e3",
   "metadata": {
    "collapsed": true
   },
   "outputs": [
    {
     "name": "stdout",
     "output_type": "stream",
     "text": [
      "<class 'pandas.core.frame.DataFrame'>\n",
      "RangeIndex: 6000 entries, 0 to 5999\n",
      "Data columns (total 16 columns):\n",
      " #   Column             Non-Null Count  Dtype \n",
      "---  ------             --------------  ----- \n",
      " 0   Email              6000 non-null   object\n",
      " 1   Subject            6000 non-null   object\n",
      " 2   Sender             6000 non-null   object\n",
      " 3   Recipient          6000 non-null   object\n",
      " 4   Date               6000 non-null   object\n",
      " 5   Time               6000 non-null   object\n",
      " 6   Attachments        6000 non-null   int64 \n",
      " 7   Link Count         6000 non-null   int64 \n",
      " 8   Word Count         6000 non-null   int64 \n",
      " 9   Uppercase Count    6000 non-null   int64 \n",
      " 10  Exclamation Count  6000 non-null   int64 \n",
      " 11  Question Count     6000 non-null   int64 \n",
      " 12  Dollar Count       6000 non-null   int64 \n",
      " 13  Punctuation Count  6000 non-null   int64 \n",
      " 14  HTML Tags Count    6000 non-null   int64 \n",
      " 15  Spam Indicator     6000 non-null   int64 \n",
      "dtypes: int64(10), object(6)\n",
      "memory usage: 750.1+ KB\n"
     ]
    }
   ],
   "source": [
    "E_data.info()"
   ]
  },
  {
   "cell_type": "markdown",
   "id": "7c55a078",
   "metadata": {},
   "source": [
    "# \n",
    "Check for missing values using E_data.isnull().sum()."
   ]
  },
  {
   "cell_type": "code",
   "execution_count": 5,
   "id": "7944b72b",
   "metadata": {
    "collapsed": true
   },
   "outputs": [
    {
     "data": {
      "text/plain": [
       "Email                0\n",
       "Subject              0\n",
       "Sender               0\n",
       "Recipient            0\n",
       "Date                 0\n",
       "Time                 0\n",
       "Attachments          0\n",
       "Link Count           0\n",
       "Word Count           0\n",
       "Uppercase Count      0\n",
       "Exclamation Count    0\n",
       "Question Count       0\n",
       "Dollar Count         0\n",
       "Punctuation Count    0\n",
       "HTML Tags Count      0\n",
       "Spam Indicator       0\n",
       "dtype: int64"
      ]
     },
     "execution_count": 5,
     "metadata": {},
     "output_type": "execute_result"
    }
   ],
   "source": [
    "E_data.isnull().sum()"
   ]
  },
  {
   "cell_type": "markdown",
   "id": "1a10db6f",
   "metadata": {},
   "source": [
    "Visualize missing values using a heatmap with sns.heatmap."
   ]
  },
  {
   "cell_type": "code",
   "execution_count": 6,
   "id": "2aab434f",
   "metadata": {
    "collapsed": true
   },
   "outputs": [
    {
     "data": {
      "text/plain": [
       "<AxesSubplot:>"
      ]
     },
     "execution_count": 6,
     "metadata": {},
     "output_type": "execute_result"
    },
    {
     "data": {
      "image/png": "[encoded data removed]",
      "text/plain": [
       "<Figure size 640x480 with 2 Axes>"
      ]
     },
     "metadata": {},
     "output_type": "display_data"
    }
   ],
   "source": [
    "sns.heatmap(E_data.isnull())"
   ]
  },
  {
   "cell_type": "code",
   "execution_count": 7,
   "id": "2843d59d",
   "metadata": {
    "collapsed": true
   },
   "outputs": [
    {
     "data": {
      "text/plain": [
       "<AxesSubplot:>"
      ]
     },
     "execution_count": 7,
     "metadata": {},
     "output_type": "execute_result"
    },
    {
     "data": {
      "image/png": "[encoded data removed]",
      "text/plain": [
       "<Figure size 640x480 with 2 Axes>"
      ]
     },
     "metadata": {},
     "output_type": "display_data"
    }
   ],
   "source": [
    "sns.heatmap(E_data.isnull(),yticklabels=False)"
   ]
  },
  {
   "cell_type": "markdown",
   "id": "2aa75f82",
   "metadata": {},
   "source": [
    "Explore the dataset by plotting counts of different features against the 'Spam Indicator' using sns.countplot. This helps understand how various features relate to whether an email is spam or not."
   ]
  },
  {
   "cell_type": "code",
   "execution_count": 8,
   "id": "65cee857",
   "metadata": {
    "collapsed": true
   },
   "outputs": [
    {
     "data": {
      "text/plain": [
       "<AxesSubplot:xlabel='Email', ylabel='count'>"
      ]
     },
     "execution_count": 8,
     "metadata": {},
     "output_type": "execute_result"
    },
    {
     "data": {
      "image/png": "[encoded data removed]",
      "text/plain": [
       "<Figure size 640x480 with 1 Axes>"
      ]
     },
     "metadata": {},
     "output_type": "display_data"
    }
   ],
   "source": [
    "sns.countplot(data=E_data ,x='Email')"
   ]
  },
  {
   "cell_type": "code",
   "execution_count": 9,
   "id": "0b376dff",
   "metadata": {
    "collapsed": true
   },
   "outputs": [
    {
     "data": {
      "text/plain": [
       "<AxesSubplot:xlabel='Email', ylabel='count'>"
      ]
     },
     "execution_count": 9,
     "metadata": {},
     "output_type": "execute_result"
    },
    {
     "data": {
      "image/png": "[encoded data removed]",
      "text/plain": [
       "<Figure size 640x480 with 1 Axes>"
      ]
     },
     "metadata": {},
     "output_type": "display_data"
    }
   ],
   "source": [
    "sns.countplot(data=E_data ,x='Email', hue ='Spam Indicator')"
   ]
  },
  {
   "cell_type": "code",
   "execution_count": 10,
   "id": "7d19784d",
   "metadata": {
    "collapsed": true
   },
   "outputs": [
    {
     "data": {
      "text/plain": [
       "<AxesSubplot:xlabel='Subject', ylabel='count'>"
      ]
     },
     "execution_count": 10,
     "metadata": {},
     "output_type": "execute_result"
    },
    {
     "data": {
      "image/png": "[encoded data removed]",
      "text/plain": [
       "<Figure size 640x480 with 1 Axes>"
      ]
     },
     "metadata": {},
     "output_type": "display_data"
    }
   ],
   "source": [
    "sns.countplot(data=E_data ,x='Subject', hue ='Spam Indicator')"
   ]
  },
  {
   "cell_type": "code",
   "execution_count": 11,
   "id": "4413eddf",
   "metadata": {
    "collapsed": true
   },
   "outputs": [
    {
     "data": {
      "text/plain": [
       "<AxesSubplot:xlabel='Sender', ylabel='count'>"
      ]
     },
     "execution_count": 11,
     "metadata": {},
     "output_type": "execute_result"
    },
    {
     "data": {
      "image/png": "[encoded data removed]",
      "text/plain": [
       "<Figure size 640x480 with 1 Axes>"
      ]
     },
     "metadata": {},
     "output_type": "display_data"
    }
   ],
   "source": [
    "sns.countplot(data=E_data ,x='Sender', hue ='Spam Indicator')"
   ]
  },
  {
   "cell_type": "code",
   "execution_count": 12,
   "id": "dd21c68e",
   "metadata": {
    "collapsed": true
   },
   "outputs": [
    {
     "data": {
      "text/plain": [
       "<AxesSubplot:xlabel='Recipient', ylabel='count'>"
      ]
     },
     "execution_count": 12,
     "metadata": {},
     "output_type": "execute_result"
    },
    {
     "data": {
      "image/png": "[encoded data removed]",
      "text/plain": [
       "<Figure size 640x480 with 1 Axes>"
      ]
     },
     "metadata": {},
     "output_type": "display_data"
    }
   ],
   "source": [
    "sns.countplot(data=E_data ,x='Recipient', hue ='Spam Indicator')"
   ]
  },
  {
   "cell_type": "code",
   "execution_count": 13,
   "id": "74a964aa",
   "metadata": {
    "collapsed": true
   },
   "outputs": [
    {
     "data": {
      "text/plain": [
       "<AxesSubplot:xlabel='Time', ylabel='count'>"
      ]
     },
     "execution_count": 13,
     "metadata": {},
     "output_type": "execute_result"
    },
    {
     "data": {
      "image/png": "[encoded data removed]",
      "text/plain": [
       "<Figure size 640x480 with 1 Axes>"
      ]
     },
     "metadata": {},
     "output_type": "display_data"
    }
   ],
   "source": [
    "sns.countplot(data=E_data ,x='Time', hue ='Spam Indicator')"
   ]
  },
  {
   "cell_type": "code",
   "execution_count": 14,
   "id": "43d8a276",
   "metadata": {
    "collapsed": true
   },
   "outputs": [
    {
     "data": {
      "text/plain": [
       "<AxesSubplot:xlabel='Attachments', ylabel='count'>"
      ]
     },
     "execution_count": 14,
     "metadata": {},
     "output_type": "execute_result"
    },
    {
     "data": {
      "image/png": "[encoded data removed]",
      "text/plain": [
       "<Figure size 640x480 with 1 Axes>"
      ]
     },
     "metadata": {},
     "output_type": "display_data"
    }
   ],
   "source": [
    "sns.countplot(data=E_data ,x='Attachments', hue ='Spam Indicator')"
   ]
  },
  {
   "cell_type": "code",
   "execution_count": 15,
   "id": "ce9d8421",
   "metadata": {
    "collapsed": true
   },
   "outputs": [
    {
     "data": {
      "text/plain": [
       "<AxesSubplot:xlabel='Link Count', ylabel='count'>"
      ]
     },
     "execution_count": 15,
     "metadata": {},
     "output_type": "execute_result"
    },
    {
     "data": {
      "image/png": "[encoded data removed]",
      "text/plain": [
       "<Figure size 640x480 with 1 Axes>"
      ]
     },
     "metadata": {},
     "output_type": "display_data"
    }
   ],
   "source": [
    "sns.countplot(data=E_data ,x='Link Count', hue ='Spam Indicator')"
   ]
  },
  {
   "cell_type": "code",
   "execution_count": 16,
   "id": "e7980687",
   "metadata": {
    "collapsed": true
   },
   "outputs": [
    {
     "data": {
      "text/plain": [
       "<AxesSubplot:xlabel='Word Count', ylabel='count'>"
      ]
     },
     "execution_count": 16,
     "metadata": {},
     "output_type": "execute_result"
    },
    {
     "data": {
      "image/png": "[encoded data removed]",
      "text/plain": [
       "<Figure size 640x480 with 1 Axes>"
      ]
     },
     "metadata": {},
     "output_type": "display_data"
    }
   ],
   "source": [
    "sns.countplot(data=E_data ,x='Word Count', hue ='Spam Indicator')"
   ]
  },
  {
   "cell_type": "code",
   "execution_count": 17,
   "id": "d2811b03",
   "metadata": {
    "collapsed": true
   },
   "outputs": [
    {
     "data": {
      "text/plain": [
       "<AxesSubplot:xlabel='Uppercase Count', ylabel='count'>"
      ]
     },
     "execution_count": 17,
     "metadata": {},
     "output_type": "execute_result"
    },
    {
     "data": {
      "image/png": "[encoded data removed]",
      "text/plain": [
       "<Figure size 640x480 with 1 Axes>"
      ]
     },
     "metadata": {},
     "output_type": "display_data"
    }
   ],
   "source": [
    "sns.countplot(data=E_data ,x='Uppercase Count', hue ='Spam Indicator')"
   ]
  },
  {
   "cell_type": "code",
   "execution_count": 18,
   "id": "abf581a2",
   "metadata": {
    "collapsed": true
   },
   "outputs": [
    {
     "data": {
      "text/plain": [
       "<AxesSubplot:xlabel='Uppercase Count', ylabel='count'>"
      ]
     },
     "execution_count": 18,
     "metadata": {},
     "output_type": "execute_result"
    },
    {
     "data": {
      "image/png": "[encoded data removed]",
      "text/plain": [
       "<Figure size 640x480 with 1 Axes>"
      ]
     },
     "metadata": {},
     "output_type": "display_data"
    }
   ],
   "source": [
    "sns.countplot(data=E_data ,x='Uppercase Count')"
   ]
  },
  {
   "cell_type": "code",
   "execution_count": 19,
   "id": "40d4814e",
   "metadata": {
    "collapsed": true
   },
   "outputs": [
    {
     "data": {
      "text/plain": [
       "<AxesSubplot:xlabel='Exclamation Count', ylabel='count'>"
      ]
     },
     "execution_count": 19,
     "metadata": {},
     "output_type": "execute_result"
    },
    {
     "data": {
      "image/png": "[encoded data removed]",
      "text/plain": [
       "<Figure size 640x480 with 1 Axes>"
      ]
     },
     "metadata": {},
     "output_type": "display_data"
    }
   ],
   "source": [
    "sns.countplot(data=E_data ,x='Exclamation Count', hue ='Spam Indicator')"
   ]
  },
  {
   "cell_type": "code",
   "execution_count": 20,
   "id": "9d8875f8",
   "metadata": {
    "collapsed": true
   },
   "outputs": [
    {
     "data": {
      "text/plain": [
       "<AxesSubplot:xlabel='Question Count', ylabel='count'>"
      ]
     },
     "execution_count": 20,
     "metadata": {},
     "output_type": "execute_result"
    },
    {
     "data": {
      "image/png": "[encoded data removed]",
      "text/plain": [
       "<Figure size 640x480 with 1 Axes>"
      ]
     },
     "metadata": {},
     "output_type": "display_data"
    }
   ],
   "source": [
    "sns.countplot(data=E_data ,x='Question Count', hue ='Spam Indicator')"
   ]
  },
  {
   "cell_type": "code",
   "execution_count": 21,
   "id": "2b3da29a",
   "metadata": {
    "collapsed": true
   },
   "outputs": [
    {
     "data": {
      "text/plain": [
       "<AxesSubplot:xlabel='Dollar Count', ylabel='count'>"
      ]
     },
     "execution_count": 21,
     "metadata": {},
     "output_type": "execute_result"
    },
    {
     "data": {
      "image/png": "[encoded data removed]",
      "text/plain": [
       "<Figure size 640x480 with 1 Axes>"
      ]
     },
     "metadata": {},
     "output_type": "display_data"
    }
   ],
   "source": [
    "sns.countplot(data=E_data ,x='Dollar Count', hue ='Spam Indicator')"
   ]
  },
  {
   "cell_type": "code",
   "execution_count": 22,
   "id": "8a08c364",
   "metadata": {
    "collapsed": true
   },
   "outputs": [
    {
     "data": {
      "text/plain": [
       "<AxesSubplot:xlabel='Punctuation Count', ylabel='count'>"
      ]
     },
     "execution_count": 22,
     "metadata": {},
     "output_type": "execute_result"
    },
    {
     "data": {
      "image/png": "[encoded data removed]",
      "text/plain": [
       "<Figure size 640x480 with 1 Axes>"
      ]
     },
     "metadata": {},
     "output_type": "display_data"
    }
   ],
   "source": [
    "sns.countplot(data=E_data ,x='Punctuation Count', hue ='Spam Indicator')"
   ]
  },
  {
   "cell_type": "code",
   "execution_count": 23,
   "id": "de76565e",
   "metadata": {
    "collapsed": true
   },
   "outputs": [
    {
     "data": {
      "text/plain": [
       "<AxesSubplot:xlabel='HTML Tags Count', ylabel='count'>"
      ]
     },
     "execution_count": 23,
     "metadata": {},
     "output_type": "execute_result"
    },
    {
     "data": {
      "image/png": "[encoded data removed]",
      "text/plain": [
       "<Figure size 640x480 with 1 Axes>"
      ]
     },
     "metadata": {},
     "output_type": "display_data"
    }
   ],
   "source": [
    "sns.countplot(data=E_data ,x='HTML Tags Count', hue ='Spam Indicator')"
   ]
  },
  {
   "cell_type": "code",
   "execution_count": 24,
   "id": "8acc620e",
   "metadata": {
    "collapsed": true
   },
   "outputs": [
    {
     "data": {
      "text/html": [
       "<div>\n",
       "<style scoped>\n",
       "    .dataframe tbody tr th:only-of-type {\n",
       "        vertical-align: middle;\n",
       "    }\n",
       "\n",
       "    .dataframe tbody tr th {\n",
       "        vertical-align: top;\n",
       "    }\n",
       "\n",
       "    .dataframe thead th {\n",
       "        text-align: right;\n",
       "    }\n",
       "</style>\n",
       "<table border=\"1\" class=\"dataframe\">\n",
       "  <thead>\n",
       "    <tr style=\"text-align: right;\">\n",
       "      <th></th>\n",
       "      <th>Attachments</th>\n",
       "      <th>Link Count</th>\n",
       "      <th>Word Count</th>\n",
       "      <th>Uppercase Count</th>\n",
       "      <th>Exclamation Count</th>\n",
       "      <th>Question Count</th>\n",
       "      <th>Dollar Count</th>\n",
       "      <th>Punctuation Count</th>\n",
       "      <th>HTML Tags Count</th>\n",
       "      <th>Spam Indicator</th>\n",
       "    </tr>\n",
       "  </thead>\n",
       "  <tbody>\n",
       "    <tr>\n",
       "      <th>count</th>\n",
       "      <td>6000.000000</td>\n",
       "      <td>6000.000000</td>\n",
       "      <td>6000.000000</td>\n",
       "      <td>6000.000000</td>\n",
       "      <td>6000.000000</td>\n",
       "      <td>6000.000000</td>\n",
       "      <td>6000.000000</td>\n",
       "      <td>6000.000000</td>\n",
       "      <td>6000.000000</td>\n",
       "      <td>6000.000000</td>\n",
       "    </tr>\n",
       "    <tr>\n",
       "      <th>mean</th>\n",
       "      <td>1.497833</td>\n",
       "      <td>5.005500</td>\n",
       "      <td>153.269500</td>\n",
       "      <td>75.997667</td>\n",
       "      <td>2.481833</td>\n",
       "      <td>1.486000</td>\n",
       "      <td>0.989500</td>\n",
       "      <td>7.549667</td>\n",
       "      <td>2.528833</td>\n",
       "      <td>0.497000</td>\n",
       "    </tr>\n",
       "    <tr>\n",
       "      <th>std</th>\n",
       "      <td>1.125555</td>\n",
       "      <td>3.166092</td>\n",
       "      <td>83.135747</td>\n",
       "      <td>64.735568</td>\n",
       "      <td>1.717895</td>\n",
       "      <td>1.118785</td>\n",
       "      <td>0.812301</td>\n",
       "      <td>4.624619</td>\n",
       "      <td>1.703522</td>\n",
       "      <td>0.500033</td>\n",
       "    </tr>\n",
       "    <tr>\n",
       "      <th>min</th>\n",
       "      <td>0.000000</td>\n",
       "      <td>0.000000</td>\n",
       "      <td>10.000000</td>\n",
       "      <td>0.000000</td>\n",
       "      <td>0.000000</td>\n",
       "      <td>0.000000</td>\n",
       "      <td>0.000000</td>\n",
       "      <td>0.000000</td>\n",
       "      <td>0.000000</td>\n",
       "      <td>0.000000</td>\n",
       "    </tr>\n",
       "    <tr>\n",
       "      <th>25%</th>\n",
       "      <td>0.000000</td>\n",
       "      <td>2.000000</td>\n",
       "      <td>83.000000</td>\n",
       "      <td>23.000000</td>\n",
       "      <td>1.000000</td>\n",
       "      <td>0.000000</td>\n",
       "      <td>0.000000</td>\n",
       "      <td>4.000000</td>\n",
       "      <td>1.000000</td>\n",
       "      <td>0.000000</td>\n",
       "    </tr>\n",
       "    <tr>\n",
       "      <th>50%</th>\n",
       "      <td>1.000000</td>\n",
       "      <td>5.000000</td>\n",
       "      <td>154.000000</td>\n",
       "      <td>59.000000</td>\n",
       "      <td>2.000000</td>\n",
       "      <td>1.000000</td>\n",
       "      <td>1.000000</td>\n",
       "      <td>8.000000</td>\n",
       "      <td>3.000000</td>\n",
       "      <td>0.000000</td>\n",
       "    </tr>\n",
       "    <tr>\n",
       "      <th>75%</th>\n",
       "      <td>3.000000</td>\n",
       "      <td>8.000000</td>\n",
       "      <td>223.000000</td>\n",
       "      <td>114.000000</td>\n",
       "      <td>4.000000</td>\n",
       "      <td>2.000000</td>\n",
       "      <td>2.000000</td>\n",
       "      <td>12.000000</td>\n",
       "      <td>4.000000</td>\n",
       "      <td>1.000000</td>\n",
       "    </tr>\n",
       "    <tr>\n",
       "      <th>max</th>\n",
       "      <td>3.000000</td>\n",
       "      <td>10.000000</td>\n",
       "      <td>300.000000</td>\n",
       "      <td>300.000000</td>\n",
       "      <td>5.000000</td>\n",
       "      <td>3.000000</td>\n",
       "      <td>2.000000</td>\n",
       "      <td>15.000000</td>\n",
       "      <td>5.000000</td>\n",
       "      <td>1.000000</td>\n",
       "    </tr>\n",
       "  </tbody>\n",
       "</table>\n",
       "</div>"
      ],
      "text/plain": [
       "       Attachments   Link Count   Word Count  Uppercase Count  \\\n",
       "count  6000.000000  6000.000000  6000.000000      6000.000000   \n",
       "mean      1.497833     5.005500   153.269500        75.997667   \n",
       "std       1.125555     3.166092    83.135747        64.735568   \n",
       "min       0.000000     0.000000    10.000000         0.000000   \n",
       "25%       0.000000     2.000000    83.000000        23.000000   \n",
       "50%       1.000000     5.000000   154.000000        59.000000   \n",
       "75%       3.000000     8.000000   223.000000       114.000000   \n",
       "max       3.000000    10.000000   300.000000       300.000000   \n",
       "\n",
       "       Exclamation Count  Question Count  Dollar Count  Punctuation Count  \\\n",
       "count        6000.000000     6000.000000   6000.000000        6000.000000   \n",
       "mean            2.481833        1.486000      0.989500           7.549667   \n",
       "std             1.717895        1.118785      0.812301           4.624619   \n",
       "min             0.000000        0.000000      0.000000           0.000000   \n",
       "25%             1.000000        0.000000      0.000000           4.000000   \n",
       "50%             2.000000        1.000000      1.000000           8.000000   \n",
       "75%             4.000000        2.000000      2.000000          12.000000   \n",
       "max             5.000000        3.000000      2.000000          15.000000   \n",
       "\n",
       "       HTML Tags Count  Spam Indicator  \n",
       "count      6000.000000     6000.000000  \n",
       "mean          2.528833        0.497000  \n",
       "std           1.703522        0.500033  \n",
       "min           0.000000        0.000000  \n",
       "25%           1.000000        0.000000  \n",
       "50%           3.000000        0.000000  \n",
       "75%           4.000000        1.000000  \n",
       "max           5.000000        1.000000  "
      ]
     },
     "execution_count": 24,
     "metadata": {},
     "output_type": "execute_result"
    }
   ],
   "source": [
    "E_data.describe()"
   ]
  },
  {
   "cell_type": "code",
   "execution_count": 25,
   "id": "9b70b8ab",
   "metadata": {
    "collapsed": true
   },
   "outputs": [
    {
     "data": {
      "text/html": [
       "<div>\n",
       "<style scoped>\n",
       "    .dataframe tbody tr th:only-of-type {\n",
       "        vertical-align: middle;\n",
       "    }\n",
       "\n",
       "    .dataframe tbody tr th {\n",
       "        vertical-align: top;\n",
       "    }\n",
       "\n",
       "    .dataframe thead th {\n",
       "        text-align: right;\n",
       "    }\n",
       "</style>\n",
       "<table border=\"1\" class=\"dataframe\">\n",
       "  <thead>\n",
       "    <tr style=\"text-align: right;\">\n",
       "      <th></th>\n",
       "      <th>Email</th>\n",
       "      <th>Subject</th>\n",
       "      <th>Sender</th>\n",
       "      <th>Recipient</th>\n",
       "      <th>Date</th>\n",
       "      <th>Time</th>\n",
       "      <th>Attachments</th>\n",
       "      <th>Link Count</th>\n",
       "      <th>Word Count</th>\n",
       "      <th>Uppercase Count</th>\n",
       "      <th>Exclamation Count</th>\n",
       "      <th>Question Count</th>\n",
       "      <th>Dollar Count</th>\n",
       "      <th>Punctuation Count</th>\n",
       "      <th>HTML Tags Count</th>\n",
       "      <th>Spam Indicator</th>\n",
       "    </tr>\n",
       "  </thead>\n",
       "  <tbody>\n",
       "    <tr>\n",
       "      <th>0</th>\n",
       "      <td>mikerusso@example.net</td>\n",
       "      <td>Even hotel community church.</td>\n",
       "      <td>emilyscott@example.org</td>\n",
       "      <td>gregorysmith@example.org</td>\n",
       "      <td>13-02-2023</td>\n",
       "      <td>04:13</td>\n",
       "      <td>3</td>\n",
       "      <td>0</td>\n",
       "      <td>191</td>\n",
       "      <td>32</td>\n",
       "      <td>3</td>\n",
       "      <td>3</td>\n",
       "      <td>0</td>\n",
       "      <td>11</td>\n",
       "      <td>1</td>\n",
       "      <td>1</td>\n",
       "    </tr>\n",
       "    <tr>\n",
       "      <th>1</th>\n",
       "      <td>waynebailey@example.org</td>\n",
       "      <td>Try themselves guess fight white agreement thu...</td>\n",
       "      <td>annwhite@example.net</td>\n",
       "      <td>gonzalezdaniel@example.net</td>\n",
       "      <td>09-08-2023</td>\n",
       "      <td>06:15</td>\n",
       "      <td>3</td>\n",
       "      <td>9</td>\n",
       "      <td>45</td>\n",
       "      <td>1</td>\n",
       "      <td>2</td>\n",
       "      <td>1</td>\n",
       "      <td>2</td>\n",
       "      <td>8</td>\n",
       "      <td>2</td>\n",
       "      <td>1</td>\n",
       "    </tr>\n",
       "    <tr>\n",
       "      <th>2</th>\n",
       "      <td>jill43@example.com</td>\n",
       "      <td>Environmental commercial off seem any conference.</td>\n",
       "      <td>david88@example.net</td>\n",
       "      <td>michellebaker@example.net</td>\n",
       "      <td>16-05-2023</td>\n",
       "      <td>01:32</td>\n",
       "      <td>3</td>\n",
       "      <td>9</td>\n",
       "      <td>52</td>\n",
       "      <td>1</td>\n",
       "      <td>4</td>\n",
       "      <td>0</td>\n",
       "      <td>2</td>\n",
       "      <td>10</td>\n",
       "      <td>1</td>\n",
       "      <td>1</td>\n",
       "    </tr>\n",
       "    <tr>\n",
       "      <th>3</th>\n",
       "      <td>johnsonkaren@example.org</td>\n",
       "      <td>Smile real TV father commercial day increase.</td>\n",
       "      <td>lindaalvarez@example.com</td>\n",
       "      <td>schroedertodd@example.com</td>\n",
       "      <td>25-04-2023</td>\n",
       "      <td>14:50</td>\n",
       "      <td>2</td>\n",
       "      <td>3</td>\n",
       "      <td>75</td>\n",
       "      <td>6</td>\n",
       "      <td>0</td>\n",
       "      <td>2</td>\n",
       "      <td>0</td>\n",
       "      <td>8</td>\n",
       "      <td>2</td>\n",
       "      <td>0</td>\n",
       "    </tr>\n",
       "    <tr>\n",
       "      <th>4</th>\n",
       "      <td>markwilson@example.org</td>\n",
       "      <td>Fast stage he oil institution.</td>\n",
       "      <td>vstafford@example.com</td>\n",
       "      <td>emilywilliams@example.com</td>\n",
       "      <td>11-07-2023</td>\n",
       "      <td>21:44</td>\n",
       "      <td>3</td>\n",
       "      <td>5</td>\n",
       "      <td>299</td>\n",
       "      <td>279</td>\n",
       "      <td>0</td>\n",
       "      <td>2</td>\n",
       "      <td>0</td>\n",
       "      <td>6</td>\n",
       "      <td>1</td>\n",
       "      <td>1</td>\n",
       "    </tr>\n",
       "  </tbody>\n",
       "</table>\n",
       "</div>"
      ],
      "text/plain": [
       "                      Email  \\\n",
       "0     mikerusso@example.net   \n",
       "1   waynebailey@example.org   \n",
       "2        jill43@example.com   \n",
       "3  johnsonkaren@example.org   \n",
       "4    markwilson@example.org   \n",
       "\n",
       "                                             Subject  \\\n",
       "0                       Even hotel community church.   \n",
       "1  Try themselves guess fight white agreement thu...   \n",
       "2  Environmental commercial off seem any conference.   \n",
       "3      Smile real TV father commercial day increase.   \n",
       "4                     Fast stage he oil institution.   \n",
       "\n",
       "                     Sender                   Recipient        Date   Time  \\\n",
       "0    emilyscott@example.org    gregorysmith@example.org  13-02-2023  04:13   \n",
       "1      annwhite@example.net  gonzalezdaniel@example.net  09-08-2023  06:15   \n",
       "2       david88@example.net   michellebaker@example.net  16-05-2023  01:32   \n",
       "3  lindaalvarez@example.com   schroedertodd@example.com  25-04-2023  14:50   \n",
       "4     vstafford@example.com   emilywilliams@example.com  11-07-2023  21:44   \n",
       "\n",
       "   Attachments  Link Count  Word Count  Uppercase Count  Exclamation Count  \\\n",
       "0            3           0         191               32                  3   \n",
       "1            3           9          45                1                  2   \n",
       "2            3           9          52                1                  4   \n",
       "3            2           3          75                6                  0   \n",
       "4            3           5         299              279                  0   \n",
       "\n",
       "   Question Count  Dollar Count  Punctuation Count  HTML Tags Count  \\\n",
       "0               3             0                 11                1   \n",
       "1               1             2                  8                2   \n",
       "2               0             2                 10                1   \n",
       "3               2             0                  8                2   \n",
       "4               2             0                  6                1   \n",
       "\n",
       "   Spam Indicator  \n",
       "0               1  \n",
       "1               1  \n",
       "2               1  \n",
       "3               0  \n",
       "4               1  "
      ]
     },
     "execution_count": 25,
     "metadata": {},
     "output_type": "execute_result"
    }
   ],
   "source": [
    "E_data.head()"
   ]
  },
  {
   "cell_type": "markdown",
   "id": "7f10224a",
   "metadata": {},
   "source": [
    "# Data Cleaning:\n",
    "\n",
    "Drop columns that may not be useful for the spam classification task, such as 'Email', 'Subject', 'Sender', 'Recipient', 'Date', and 'Time'."
   ]
  },
  {
   "cell_type": "code",
   "execution_count": 26,
   "id": "16be716f",
   "metadata": {},
   "outputs": [],
   "source": [
    "#drop columen\n",
    "E_data.drop(\"Email\" , axis=1 , inplace=True)\n",
    "E_data.drop(\"Subject\" , axis=1 , inplace=True)\n",
    "E_data.drop(\"Sender\" , axis=1 , inplace=True)\n",
    "E_data.drop(\"Recipient\" , axis=1 , inplace=True)\n",
    "E_data.drop(\"Date\" , axis=1 , inplace=True)\n",
    "E_data.drop(\"Time\" , axis=1 , inplace=True)\n",
    "\n",
    "# Feature Selection:\n",
    "\n",
    "# Select features (columns) that are likely to be relevant for spam classification.\n",
    "# Features like 'Attachments', 'Link Count', 'Word Count', etc., are selected.\n",
    "\n",
    "#or\n",
    "#x=E_data.select_dtypes(include=\"int64\")"
   ]
  },
  {
   "cell_type": "code",
   "execution_count": 27,
   "id": "701a7099",
   "metadata": {},
   "outputs": [
    {
     "data": {
      "text/plain": [
       "pandas.core.frame.DataFrame"
      ]
     },
     "execution_count": 27,
     "metadata": {},
     "output_type": "execute_result"
    }
   ],
   "source": [
    "type(E_data)"
   ]
  },
  {
   "cell_type": "code",
   "execution_count": 28,
   "id": "f79d2008",
   "metadata": {},
   "outputs": [],
   "source": [
    "categorical_variables = E_data.select_dtypes(include=['object', 'category'])"
   ]
  },
  {
   "cell_type": "code",
   "execution_count": 29,
   "id": "661c569c",
   "metadata": {},
   "outputs": [
    {
     "data": {
      "text/html": [
       "<div>\n",
       "<style scoped>\n",
       "    .dataframe tbody tr th:only-of-type {\n",
       "        vertical-align: middle;\n",
       "    }\n",
       "\n",
       "    .dataframe tbody tr th {\n",
       "        vertical-align: top;\n",
       "    }\n",
       "\n",
       "    .dataframe thead th {\n",
       "        text-align: right;\n",
       "    }\n",
       "</style>\n",
       "<table border=\"1\" class=\"dataframe\">\n",
       "  <thead>\n",
       "    <tr style=\"text-align: right;\">\n",
       "      <th></th>\n",
       "    </tr>\n",
       "  </thead>\n",
       "  <tbody>\n",
       "    <tr>\n",
       "      <th>0</th>\n",
       "    </tr>\n",
       "    <tr>\n",
       "      <th>1</th>\n",
       "    </tr>\n",
       "    <tr>\n",
       "      <th>2</th>\n",
       "    </tr>\n",
       "    <tr>\n",
       "      <th>3</th>\n",
       "    </tr>\n",
       "    <tr>\n",
       "      <th>4</th>\n",
       "    </tr>\n",
       "    <tr>\n",
       "      <th>...</th>\n",
       "    </tr>\n",
       "    <tr>\n",
       "      <th>5995</th>\n",
       "    </tr>\n",
       "    <tr>\n",
       "      <th>5996</th>\n",
       "    </tr>\n",
       "    <tr>\n",
       "      <th>5997</th>\n",
       "    </tr>\n",
       "    <tr>\n",
       "      <th>5998</th>\n",
       "    </tr>\n",
       "    <tr>\n",
       "      <th>5999</th>\n",
       "    </tr>\n",
       "  </tbody>\n",
       "</table>\n",
       "<p>6000 rows × 0 columns</p>\n",
       "</div>"
      ],
      "text/plain": [
       "Empty DataFrame\n",
       "Columns: []\n",
       "Index: [0, 1, 2, 3, 4, 5, 6, 7, 8, 9, 10, 11, 12, 13, 14, 15, 16, 17, 18, 19, 20, 21, 22, 23, 24, 25, 26, 27, 28, 29, 30, 31, 32, 33, 34, 35, 36, 37, 38, 39, 40, 41, 42, 43, 44, 45, 46, 47, 48, 49, 50, 51, 52, 53, 54, 55, 56, 57, 58, 59, 60, 61, 62, 63, 64, 65, 66, 67, 68, 69, 70, 71, 72, 73, 74, 75, 76, 77, 78, 79, 80, 81, 82, 83, 84, 85, 86, 87, 88, 89, 90, 91, 92, 93, 94, 95, 96, 97, 98, 99, ...]\n",
       "\n",
       "[6000 rows x 0 columns]"
      ]
     },
     "execution_count": 29,
     "metadata": {},
     "output_type": "execute_result"
    }
   ],
   "source": [
    "categorical_variables"
   ]
  },
  {
   "cell_type": "code",
   "execution_count": 30,
   "id": "b368c903",
   "metadata": {
    "collapsed": true
   },
   "outputs": [
    {
     "data": {
      "text/html": [
       "<div>\n",
       "<style scoped>\n",
       "    .dataframe tbody tr th:only-of-type {\n",
       "        vertical-align: middle;\n",
       "    }\n",
       "\n",
       "    .dataframe tbody tr th {\n",
       "        vertical-align: top;\n",
       "    }\n",
       "\n",
       "    .dataframe thead th {\n",
       "        text-align: right;\n",
       "    }\n",
       "</style>\n",
       "<table border=\"1\" class=\"dataframe\">\n",
       "  <thead>\n",
       "    <tr style=\"text-align: right;\">\n",
       "      <th></th>\n",
       "      <th>Attachments</th>\n",
       "      <th>Link Count</th>\n",
       "      <th>Word Count</th>\n",
       "      <th>Uppercase Count</th>\n",
       "      <th>Exclamation Count</th>\n",
       "      <th>Question Count</th>\n",
       "      <th>Dollar Count</th>\n",
       "      <th>Punctuation Count</th>\n",
       "      <th>HTML Tags Count</th>\n",
       "      <th>Spam Indicator</th>\n",
       "    </tr>\n",
       "  </thead>\n",
       "  <tbody>\n",
       "    <tr>\n",
       "      <th>0</th>\n",
       "      <td>3</td>\n",
       "      <td>0</td>\n",
       "      <td>191</td>\n",
       "      <td>32</td>\n",
       "      <td>3</td>\n",
       "      <td>3</td>\n",
       "      <td>0</td>\n",
       "      <td>11</td>\n",
       "      <td>1</td>\n",
       "      <td>1</td>\n",
       "    </tr>\n",
       "    <tr>\n",
       "      <th>1</th>\n",
       "      <td>3</td>\n",
       "      <td>9</td>\n",
       "      <td>45</td>\n",
       "      <td>1</td>\n",
       "      <td>2</td>\n",
       "      <td>1</td>\n",
       "      <td>2</td>\n",
       "      <td>8</td>\n",
       "      <td>2</td>\n",
       "      <td>1</td>\n",
       "    </tr>\n",
       "    <tr>\n",
       "      <th>2</th>\n",
       "      <td>3</td>\n",
       "      <td>9</td>\n",
       "      <td>52</td>\n",
       "      <td>1</td>\n",
       "      <td>4</td>\n",
       "      <td>0</td>\n",
       "      <td>2</td>\n",
       "      <td>10</td>\n",
       "      <td>1</td>\n",
       "      <td>1</td>\n",
       "    </tr>\n",
       "    <tr>\n",
       "      <th>3</th>\n",
       "      <td>2</td>\n",
       "      <td>3</td>\n",
       "      <td>75</td>\n",
       "      <td>6</td>\n",
       "      <td>0</td>\n",
       "      <td>2</td>\n",
       "      <td>0</td>\n",
       "      <td>8</td>\n",
       "      <td>2</td>\n",
       "      <td>0</td>\n",
       "    </tr>\n",
       "    <tr>\n",
       "      <th>4</th>\n",
       "      <td>3</td>\n",
       "      <td>5</td>\n",
       "      <td>299</td>\n",
       "      <td>279</td>\n",
       "      <td>0</td>\n",
       "      <td>2</td>\n",
       "      <td>0</td>\n",
       "      <td>6</td>\n",
       "      <td>1</td>\n",
       "      <td>1</td>\n",
       "    </tr>\n",
       "    <tr>\n",
       "      <th>...</th>\n",
       "      <td>...</td>\n",
       "      <td>...</td>\n",
       "      <td>...</td>\n",
       "      <td>...</td>\n",
       "      <td>...</td>\n",
       "      <td>...</td>\n",
       "      <td>...</td>\n",
       "      <td>...</td>\n",
       "      <td>...</td>\n",
       "      <td>...</td>\n",
       "    </tr>\n",
       "    <tr>\n",
       "      <th>5995</th>\n",
       "      <td>1</td>\n",
       "      <td>7</td>\n",
       "      <td>114</td>\n",
       "      <td>83</td>\n",
       "      <td>0</td>\n",
       "      <td>3</td>\n",
       "      <td>2</td>\n",
       "      <td>0</td>\n",
       "      <td>5</td>\n",
       "      <td>0</td>\n",
       "    </tr>\n",
       "    <tr>\n",
       "      <th>5996</th>\n",
       "      <td>1</td>\n",
       "      <td>5</td>\n",
       "      <td>19</td>\n",
       "      <td>10</td>\n",
       "      <td>0</td>\n",
       "      <td>0</td>\n",
       "      <td>1</td>\n",
       "      <td>7</td>\n",
       "      <td>0</td>\n",
       "      <td>0</td>\n",
       "    </tr>\n",
       "    <tr>\n",
       "      <th>5997</th>\n",
       "      <td>2</td>\n",
       "      <td>10</td>\n",
       "      <td>52</td>\n",
       "      <td>45</td>\n",
       "      <td>5</td>\n",
       "      <td>3</td>\n",
       "      <td>0</td>\n",
       "      <td>10</td>\n",
       "      <td>4</td>\n",
       "      <td>0</td>\n",
       "    </tr>\n",
       "    <tr>\n",
       "      <th>5998</th>\n",
       "      <td>3</td>\n",
       "      <td>2</td>\n",
       "      <td>178</td>\n",
       "      <td>76</td>\n",
       "      <td>0</td>\n",
       "      <td>1</td>\n",
       "      <td>2</td>\n",
       "      <td>11</td>\n",
       "      <td>1</td>\n",
       "      <td>1</td>\n",
       "    </tr>\n",
       "    <tr>\n",
       "      <th>5999</th>\n",
       "      <td>0</td>\n",
       "      <td>6</td>\n",
       "      <td>218</td>\n",
       "      <td>130</td>\n",
       "      <td>3</td>\n",
       "      <td>0</td>\n",
       "      <td>0</td>\n",
       "      <td>11</td>\n",
       "      <td>2</td>\n",
       "      <td>1</td>\n",
       "    </tr>\n",
       "  </tbody>\n",
       "</table>\n",
       "<p>6000 rows × 10 columns</p>\n",
       "</div>"
      ],
      "text/plain": [
       "      Attachments  Link Count  Word Count  Uppercase Count  Exclamation Count  \\\n",
       "0               3           0         191               32                  3   \n",
       "1               3           9          45                1                  2   \n",
       "2               3           9          52                1                  4   \n",
       "3               2           3          75                6                  0   \n",
       "4               3           5         299              279                  0   \n",
       "...           ...         ...         ...              ...                ...   \n",
       "5995            1           7         114               83                  0   \n",
       "5996            1           5          19               10                  0   \n",
       "5997            2          10          52               45                  5   \n",
       "5998            3           2         178               76                  0   \n",
       "5999            0           6         218              130                  3   \n",
       "\n",
       "      Question Count  Dollar Count  Punctuation Count  HTML Tags Count  \\\n",
       "0                  3             0                 11                1   \n",
       "1                  1             2                  8                2   \n",
       "2                  0             2                 10                1   \n",
       "3                  2             0                  8                2   \n",
       "4                  2             0                  6                1   \n",
       "...              ...           ...                ...              ...   \n",
       "5995               3             2                  0                5   \n",
       "5996               0             1                  7                0   \n",
       "5997               3             0                 10                4   \n",
       "5998               1             2                 11                1   \n",
       "5999               0             0                 11                2   \n",
       "\n",
       "      Spam Indicator  \n",
       "0                  1  \n",
       "1                  1  \n",
       "2                  1  \n",
       "3                  0  \n",
       "4                  1  \n",
       "...              ...  \n",
       "5995               0  \n",
       "5996               0  \n",
       "5997               0  \n",
       "5998               1  \n",
       "5999               1  \n",
       "\n",
       "[6000 rows x 10 columns]"
      ]
     },
     "execution_count": 30,
     "metadata": {},
     "output_type": "execute_result"
    }
   ],
   "source": [
    "E_data"
   ]
  },
  {
   "cell_type": "code",
   "execution_count": 31,
   "id": "26fd71be",
   "metadata": {},
   "outputs": [],
   "source": [
    "unique_counts = E_data.nunique()"
   ]
  },
  {
   "cell_type": "code",
   "execution_count": 32,
   "id": "da584c78",
   "metadata": {
    "collapsed": true
   },
   "outputs": [
    {
     "data": {
      "text/plain": [
       "Attachments            4\n",
       "Link Count            11\n",
       "Word Count           291\n",
       "Uppercase Count      284\n",
       "Exclamation Count      6\n",
       "Question Count         4\n",
       "Dollar Count           3\n",
       "Punctuation Count     16\n",
       "HTML Tags Count        6\n",
       "Spam Indicator         2\n",
       "dtype: int64"
      ]
     },
     "execution_count": 32,
     "metadata": {},
     "output_type": "execute_result"
    }
   ],
   "source": [
    "unique_counts"
   ]
  },
  {
   "cell_type": "code",
   "execution_count": 33,
   "id": "b2d2f5eb",
   "metadata": {},
   "outputs": [],
   "source": [
    "y = E_data[[\"Spam Indicator\"]]"
   ]
  },
  {
   "cell_type": "code",
   "execution_count": 34,
   "id": "fccb4ac4",
   "metadata": {
    "collapsed": true
   },
   "outputs": [
    {
     "data": {
      "text/html": [
       "<div>\n",
       "<style scoped>\n",
       "    .dataframe tbody tr th:only-of-type {\n",
       "        vertical-align: middle;\n",
       "    }\n",
       "\n",
       "    .dataframe tbody tr th {\n",
       "        vertical-align: top;\n",
       "    }\n",
       "\n",
       "    .dataframe thead th {\n",
       "        text-align: right;\n",
       "    }\n",
       "</style>\n",
       "<table border=\"1\" class=\"dataframe\">\n",
       "  <thead>\n",
       "    <tr style=\"text-align: right;\">\n",
       "      <th></th>\n",
       "      <th>Spam Indicator</th>\n",
       "    </tr>\n",
       "  </thead>\n",
       "  <tbody>\n",
       "    <tr>\n",
       "      <th>0</th>\n",
       "      <td>1</td>\n",
       "    </tr>\n",
       "    <tr>\n",
       "      <th>1</th>\n",
       "      <td>1</td>\n",
       "    </tr>\n",
       "    <tr>\n",
       "      <th>2</th>\n",
       "      <td>1</td>\n",
       "    </tr>\n",
       "    <tr>\n",
       "      <th>3</th>\n",
       "      <td>0</td>\n",
       "    </tr>\n",
       "    <tr>\n",
       "      <th>4</th>\n",
       "      <td>1</td>\n",
       "    </tr>\n",
       "    <tr>\n",
       "      <th>...</th>\n",
       "      <td>...</td>\n",
       "    </tr>\n",
       "    <tr>\n",
       "      <th>5995</th>\n",
       "      <td>0</td>\n",
       "    </tr>\n",
       "    <tr>\n",
       "      <th>5996</th>\n",
       "      <td>0</td>\n",
       "    </tr>\n",
       "    <tr>\n",
       "      <th>5997</th>\n",
       "      <td>0</td>\n",
       "    </tr>\n",
       "    <tr>\n",
       "      <th>5998</th>\n",
       "      <td>1</td>\n",
       "    </tr>\n",
       "    <tr>\n",
       "      <th>5999</th>\n",
       "      <td>1</td>\n",
       "    </tr>\n",
       "  </tbody>\n",
       "</table>\n",
       "<p>6000 rows × 1 columns</p>\n",
       "</div>"
      ],
      "text/plain": [
       "      Spam Indicator\n",
       "0                  1\n",
       "1                  1\n",
       "2                  1\n",
       "3                  0\n",
       "4                  1\n",
       "...              ...\n",
       "5995               0\n",
       "5996               0\n",
       "5997               0\n",
       "5998               1\n",
       "5999               1\n",
       "\n",
       "[6000 rows x 1 columns]"
      ]
     },
     "execution_count": 34,
     "metadata": {},
     "output_type": "execute_result"
    }
   ],
   "source": [
    "y"
   ]
  },
  {
   "cell_type": "code",
   "execution_count": 35,
   "id": "5061d9ec",
   "metadata": {},
   "outputs": [],
   "source": [
    "x = E_data[['Attachments','Link Count','Word Count','Uppercase Count','Exclamation Count',\n",
    "            'Question Count','Dollar Count','Punctuation Count','HTML Tags Count']]"
   ]
  },
  {
   "cell_type": "code",
   "execution_count": 36,
   "id": "33f948bd",
   "metadata": {},
   "outputs": [
    {
     "data": {
      "text/html": [
       "<div>\n",
       "<style scoped>\n",
       "    .dataframe tbody tr th:only-of-type {\n",
       "        vertical-align: middle;\n",
       "    }\n",
       "\n",
       "    .dataframe tbody tr th {\n",
       "        vertical-align: top;\n",
       "    }\n",
       "\n",
       "    .dataframe thead th {\n",
       "        text-align: right;\n",
       "    }\n",
       "</style>\n",
       "<table border=\"1\" class=\"dataframe\">\n",
       "  <thead>\n",
       "    <tr style=\"text-align: right;\">\n",
       "      <th></th>\n",
       "      <th>Attachments</th>\n",
       "      <th>Link Count</th>\n",
       "      <th>Word Count</th>\n",
       "      <th>Uppercase Count</th>\n",
       "      <th>Exclamation Count</th>\n",
       "      <th>Question Count</th>\n",
       "      <th>Dollar Count</th>\n",
       "      <th>Punctuation Count</th>\n",
       "      <th>HTML Tags Count</th>\n",
       "    </tr>\n",
       "  </thead>\n",
       "  <tbody>\n",
       "    <tr>\n",
       "      <th>0</th>\n",
       "      <td>3</td>\n",
       "      <td>0</td>\n",
       "      <td>191</td>\n",
       "      <td>32</td>\n",
       "      <td>3</td>\n",
       "      <td>3</td>\n",
       "      <td>0</td>\n",
       "      <td>11</td>\n",
       "      <td>1</td>\n",
       "    </tr>\n",
       "    <tr>\n",
       "      <th>1</th>\n",
       "      <td>3</td>\n",
       "      <td>9</td>\n",
       "      <td>45</td>\n",
       "      <td>1</td>\n",
       "      <td>2</td>\n",
       "      <td>1</td>\n",
       "      <td>2</td>\n",
       "      <td>8</td>\n",
       "      <td>2</td>\n",
       "    </tr>\n",
       "    <tr>\n",
       "      <th>2</th>\n",
       "      <td>3</td>\n",
       "      <td>9</td>\n",
       "      <td>52</td>\n",
       "      <td>1</td>\n",
       "      <td>4</td>\n",
       "      <td>0</td>\n",
       "      <td>2</td>\n",
       "      <td>10</td>\n",
       "      <td>1</td>\n",
       "    </tr>\n",
       "    <tr>\n",
       "      <th>3</th>\n",
       "      <td>2</td>\n",
       "      <td>3</td>\n",
       "      <td>75</td>\n",
       "      <td>6</td>\n",
       "      <td>0</td>\n",
       "      <td>2</td>\n",
       "      <td>0</td>\n",
       "      <td>8</td>\n",
       "      <td>2</td>\n",
       "    </tr>\n",
       "    <tr>\n",
       "      <th>4</th>\n",
       "      <td>3</td>\n",
       "      <td>5</td>\n",
       "      <td>299</td>\n",
       "      <td>279</td>\n",
       "      <td>0</td>\n",
       "      <td>2</td>\n",
       "      <td>0</td>\n",
       "      <td>6</td>\n",
       "      <td>1</td>\n",
       "    </tr>\n",
       "    <tr>\n",
       "      <th>...</th>\n",
       "      <td>...</td>\n",
       "      <td>...</td>\n",
       "      <td>...</td>\n",
       "      <td>...</td>\n",
       "      <td>...</td>\n",
       "      <td>...</td>\n",
       "      <td>...</td>\n",
       "      <td>...</td>\n",
       "      <td>...</td>\n",
       "    </tr>\n",
       "    <tr>\n",
       "      <th>5995</th>\n",
       "      <td>1</td>\n",
       "      <td>7</td>\n",
       "      <td>114</td>\n",
       "      <td>83</td>\n",
       "      <td>0</td>\n",
       "      <td>3</td>\n",
       "      <td>2</td>\n",
       "      <td>0</td>\n",
       "      <td>5</td>\n",
       "    </tr>\n",
       "    <tr>\n",
       "      <th>5996</th>\n",
       "      <td>1</td>\n",
       "      <td>5</td>\n",
       "      <td>19</td>\n",
       "      <td>10</td>\n",
       "      <td>0</td>\n",
       "      <td>0</td>\n",
       "      <td>1</td>\n",
       "      <td>7</td>\n",
       "      <td>0</td>\n",
       "    </tr>\n",
       "    <tr>\n",
       "      <th>5997</th>\n",
       "      <td>2</td>\n",
       "      <td>10</td>\n",
       "      <td>52</td>\n",
       "      <td>45</td>\n",
       "      <td>5</td>\n",
       "      <td>3</td>\n",
       "      <td>0</td>\n",
       "      <td>10</td>\n",
       "      <td>4</td>\n",
       "    </tr>\n",
       "    <tr>\n",
       "      <th>5998</th>\n",
       "      <td>3</td>\n",
       "      <td>2</td>\n",
       "      <td>178</td>\n",
       "      <td>76</td>\n",
       "      <td>0</td>\n",
       "      <td>1</td>\n",
       "      <td>2</td>\n",
       "      <td>11</td>\n",
       "      <td>1</td>\n",
       "    </tr>\n",
       "    <tr>\n",
       "      <th>5999</th>\n",
       "      <td>0</td>\n",
       "      <td>6</td>\n",
       "      <td>218</td>\n",
       "      <td>130</td>\n",
       "      <td>3</td>\n",
       "      <td>0</td>\n",
       "      <td>0</td>\n",
       "      <td>11</td>\n",
       "      <td>2</td>\n",
       "    </tr>\n",
       "  </tbody>\n",
       "</table>\n",
       "<p>6000 rows × 9 columns</p>\n",
       "</div>"
      ],
      "text/plain": [
       "      Attachments  Link Count  Word Count  Uppercase Count  Exclamation Count  \\\n",
       "0               3           0         191               32                  3   \n",
       "1               3           9          45                1                  2   \n",
       "2               3           9          52                1                  4   \n",
       "3               2           3          75                6                  0   \n",
       "4               3           5         299              279                  0   \n",
       "...           ...         ...         ...              ...                ...   \n",
       "5995            1           7         114               83                  0   \n",
       "5996            1           5          19               10                  0   \n",
       "5997            2          10          52               45                  5   \n",
       "5998            3           2         178               76                  0   \n",
       "5999            0           6         218              130                  3   \n",
       "\n",
       "      Question Count  Dollar Count  Punctuation Count  HTML Tags Count  \n",
       "0                  3             0                 11                1  \n",
       "1                  1             2                  8                2  \n",
       "2                  0             2                 10                1  \n",
       "3                  2             0                  8                2  \n",
       "4                  2             0                  6                1  \n",
       "...              ...           ...                ...              ...  \n",
       "5995               3             2                  0                5  \n",
       "5996               0             1                  7                0  \n",
       "5997               3             0                 10                4  \n",
       "5998               1             2                 11                1  \n",
       "5999               0             0                 11                2  \n",
       "\n",
       "[6000 rows x 9 columns]"
      ]
     },
     "execution_count": 36,
     "metadata": {},
     "output_type": "execute_result"
    }
   ],
   "source": [
    "x"
   ]
  },
  {
   "cell_type": "markdown",
   "id": "45417012",
   "metadata": {},
   "source": [
    "# Machine Learning with Random Forest:\n",
    "\n",
    "Import RandomForestClassifier from scikit-learn.\n",
    "\n",
    "Split the data into training and testing sets using train_test_split.\n",
    "\n",
    "Create a random forest classifier (reg) and fit it to the training data.\n",
    "\n",
    "Make predictions on the test data and calculate the model's accuracy.\n",
    "\n",
    "Evaluate the model using a confusion matrix."
   ]
  },
  {
   "cell_type": "code",
   "execution_count": 38,
   "id": "fa663425",
   "metadata": {},
   "outputs": [],
   "source": [
    "from sklearn.ensemble import RandomForestClassifier\n",
    "from sklearn.model_selection import train_test_split"
   ]
  },
  {
   "cell_type": "code",
   "execution_count": 39,
   "id": "9b8059c2",
   "metadata": {},
   "outputs": [],
   "source": [
    "reg = RandomForestClassifier()"
   ]
  },
  {
   "cell_type": "code",
   "execution_count": 40,
   "id": "f37a6509",
   "metadata": {},
   "outputs": [],
   "source": [
    "x_train,x_test,y_train,y_test = train_test_split(x,y,test_size=0.2)"
   ]
  },
  {
   "cell_type": "code",
   "execution_count": 41,
   "id": "ab1035bd",
   "metadata": {
    "collapsed": true
   },
   "outputs": [
    {
     "name": "stderr",
     "output_type": "stream",
     "text": [
      "C:\\Users\\rajes\\AppData\\Local\\Temp\\ipykernel_14228\\310678519.py:1: DataConversionWarning: A column-vector y was passed when a 1d array was expected. Please change the shape of y to (n_samples,), for example using ravel().\n",
      "  reg.fit(x_train,y_train)\n"
     ]
    },
    {
     "data": {
      "text/plain": [
       "RandomForestClassifier()"
      ]
     },
     "execution_count": 41,
     "metadata": {},
     "output_type": "execute_result"
    }
   ],
   "source": [
    "reg.fit(x_train,y_train)"
   ]
  },
  {
   "cell_type": "markdown",
   "id": "5b7e8918",
   "metadata": {},
   "source": [
    "# Model Evaluation:\n",
    "\n",
    "Make predictions on the test data using model.predict(x_test) and store them in y_pred.\n",
    "\n",
    "Calculate the confusion matrix using confusion_matrix to measure the number of true positives, true negatives, false positives, and false negatives.\n",
    "\n",
    "Calculate the accuracy of the model using accuracy_score from scikit-learn."
   ]
  },
  {
   "cell_type": "code",
   "execution_count": 42,
   "id": "8c4587e9",
   "metadata": {},
   "outputs": [
    {
     "data": {
      "text/plain": [
       "array([0, 0, 1, ..., 1, 0, 1], dtype=int64)"
      ]
     },
     "execution_count": 42,
     "metadata": {},
     "output_type": "execute_result"
    }
   ],
   "source": [
    "y_pred=reg.predict(x_test)\n",
    "y_pred"
   ]
  },
  {
   "cell_type": "code",
   "execution_count": 43,
   "id": "46952f36",
   "metadata": {},
   "outputs": [
    {
     "data": {
      "text/plain": [
       "1.0"
      ]
     },
     "execution_count": 43,
     "metadata": {},
     "output_type": "execute_result"
    }
   ],
   "source": [
    "reg.score(x_train,y_train)"
   ]
  },
  {
   "cell_type": "code",
   "execution_count": 47,
   "id": "f0a2cd4b",
   "metadata": {},
   "outputs": [],
   "source": [
    "from sklearn.metrics import accuracy_score"
   ]
  },
  {
   "cell_type": "code",
   "execution_count": 48,
   "id": "ba9ae554",
   "metadata": {},
   "outputs": [
    {
     "name": "stdout",
     "output_type": "stream",
     "text": [
      "Accuracy: 0.5083333333333333\n"
     ]
    }
   ],
   "source": [
    "accuracy = accuracy_score(y_test, y_pred)\n",
    "print(\"Accuracy:\", accuracy)"
   ]
  },
  {
   "cell_type": "markdown",
   "id": "bd59fc42",
   "metadata": {},
   "source": [
    "# What is a confusion matrix?\n",
    "It is a table that is used in classification problems to assess where errors in the model were made. The rows represent the actual classes the outcomes should have been. While the columns represent the predictions we have made"
   ]
  },
  {
   "cell_type": "code",
   "execution_count": 50,
   "id": "df1ed12b",
   "metadata": {},
   "outputs": [],
   "source": [
    "#confusion matrix\n",
    "from sklearn.metrics import confusion_matrix"
   ]
  },
  {
   "cell_type": "code",
   "execution_count": 51,
   "id": "82c0aefa",
   "metadata": {},
   "outputs": [
    {
     "data": {
      "text/plain": [
       "array([[339, 263],\n",
       "       [327, 271]], dtype=int64)"
      ]
     },
     "execution_count": 51,
     "metadata": {},
     "output_type": "execute_result"
    }
   ],
   "source": [
    "confusion_matrix(y_test,y_pred)"
   ]
  },
  {
   "cell_type": "code",
   "execution_count": null,
   "id": "386c0313",
   "metadata": {},
   "outputs": [],
   "source": []
  },
  {
   "cell_type": "markdown",
   "id": "644b0726",
   "metadata": {},
   "source": [
    "# Machine Learning with Logistic Regression:\n",
    "\n",
    "Import LogisticRegression from scikit-learn.\n",
    "\n",
    "Split the data into training and testing sets again.\n",
    "\n",
    "Create a logistic regression model (model) and fit it to the training data.\n",
    "\n",
    "Make predictions on the test data and calculate the model's accuracy.\n",
    "\n",
    "Evaluate the model using a confusion matrix."
   ]
  },
  {
   "cell_type": "code",
   "execution_count": 52,
   "id": "ba9977e3",
   "metadata": {},
   "outputs": [],
   "source": [
    "from sklearn.linear_model import LogisticRegression"
   ]
  },
  {
   "cell_type": "code",
   "execution_count": 53,
   "id": "03f4c98a",
   "metadata": {},
   "outputs": [],
   "source": [
    "from sklearn.model_selection import train_test_split"
   ]
  },
  {
   "cell_type": "code",
   "execution_count": 54,
   "id": "e70a0ed7",
   "metadata": {},
   "outputs": [],
   "source": [
    "x_train,x_test,y_train,y_test=train_test_split( x, y, test_size=0.20, random_state=20)"
   ]
  },
  {
   "cell_type": "code",
   "execution_count": 55,
   "id": "0bb11a60",
   "metadata": {},
   "outputs": [],
   "source": [
    "model=LogisticRegression()"
   ]
  },
  {
   "cell_type": "code",
   "execution_count": 56,
   "id": "1fc2157d",
   "metadata": {
    "collapsed": true
   },
   "outputs": [
    {
     "name": "stderr",
     "output_type": "stream",
     "text": [
      "C:\\Mechanical\\python anconda\\lib\\site-packages\\sklearn\\utils\\validation.py:993: DataConversionWarning: A column-vector y was passed when a 1d array was expected. Please change the shape of y to (n_samples, ), for example using ravel().\n",
      "  y = column_or_1d(y, warn=True)\n",
      "C:\\Mechanical\\python anconda\\lib\\site-packages\\sklearn\\linear_model\\_logistic.py:814: ConvergenceWarning: lbfgs failed to converge (status=1):\n",
      "STOP: TOTAL NO. of ITERATIONS REACHED LIMIT.\n",
      "\n",
      "Increase the number of iterations (max_iter) or scale the data as shown in:\n",
      "    https://scikit-learn.org/stable/modules/preprocessing.html\n",
      "Please also refer to the documentation for alternative solver options:\n",
      "    https://scikit-learn.org/stable/modules/linear_model.html#logistic-regression\n",
      "  n_iter_i = _check_optimize_result(\n"
     ]
    },
    {
     "data": {
      "text/plain": [
       "LogisticRegression()"
      ]
     },
     "execution_count": 56,
     "metadata": {},
     "output_type": "execute_result"
    }
   ],
   "source": [
    "model.fit(x_train,y_train)"
   ]
  },
  {
   "cell_type": "code",
   "execution_count": 57,
   "id": "efa2cbcf",
   "metadata": {},
   "outputs": [
    {
     "data": {
      "text/plain": [
       "sklearn.linear_model._logistic.LogisticRegression"
      ]
     },
     "execution_count": 57,
     "metadata": {},
     "output_type": "execute_result"
    }
   ],
   "source": [
    "LogisticRegression"
   ]
  },
  {
   "cell_type": "code",
   "execution_count": 58,
   "id": "514538a4",
   "metadata": {},
   "outputs": [
    {
     "data": {
      "text/plain": [
       "array([[ 2.18390863e-02,  6.34202512e-03, -1.33648313e-04,\n",
       "        -3.14356081e-06,  6.45316222e-03, -4.48669222e-02,\n",
       "        -5.43605766e-02, -5.27438805e-03,  1.53875062e-02]])"
      ]
     },
     "execution_count": 58,
     "metadata": {},
     "output_type": "execute_result"
    }
   ],
   "source": [
    "model.coef_"
   ]
  },
  {
   "cell_type": "code",
   "execution_count": 59,
   "id": "2329e607",
   "metadata": {},
   "outputs": [
    {
     "data": {
      "text/plain": [
       "array([0.01222914])"
      ]
     },
     "execution_count": 59,
     "metadata": {},
     "output_type": "execute_result"
    }
   ],
   "source": [
    "model.intercept_"
   ]
  },
  {
   "cell_type": "code",
   "execution_count": 62,
   "id": "6ad87254",
   "metadata": {},
   "outputs": [],
   "source": [
    "#confusion matrix\n",
    "from sklearn.metrics import confusion_matrix"
   ]
  },
  {
   "cell_type": "code",
   "execution_count": 63,
   "id": "d033fce3",
   "metadata": {},
   "outputs": [
    {
     "data": {
      "text/plain": [
       "array([[305, 259],\n",
       "       [361, 275]], dtype=int64)"
      ]
     },
     "execution_count": 63,
     "metadata": {},
     "output_type": "execute_result"
    }
   ],
   "source": [
    "confusion_matrix(y_test,y_pred)"
   ]
  },
  {
   "cell_type": "code",
   "execution_count": 65,
   "id": "be838d71",
   "metadata": {},
   "outputs": [],
   "source": [
    "from sklearn.metrics import accuracy_score"
   ]
  },
  {
   "cell_type": "code",
   "execution_count": 66,
   "id": "c86d725d",
   "metadata": {},
   "outputs": [
    {
     "name": "stdout",
     "output_type": "stream",
     "text": [
      "Accuracy: 0.48333333333333334\n"
     ]
    }
   ],
   "source": [
    "accuracy = accuracy_score(y_test, y_pred)\n",
    "print(\"Accuracy:\", accuracy)"
   ]
  },
  {
   "cell_type": "code",
   "execution_count": null,
   "id": "f92f8b18",
   "metadata": {},
   "outputs": [],
   "source": []
  }
 ],
 "metadata": {
  "kernelspec": {
   "display_name": "Python 3 (ipykernel)",
   "language": "python",
   "name": "python3"
  },
  "language_info": {
   "codemirror_mode": {
    "name": "ipython",
    "version": 3
   },
   "file_extension": ".py",
   "mimetype": "text/x-python",
   "name": "python",
   "nbconvert_exporter": "python",
   "pygments_lexer": "ipython3",
   "version": "3.9.13"
  }
 },
 "nbformat": 4,
 "nbformat_minor": 5
}
